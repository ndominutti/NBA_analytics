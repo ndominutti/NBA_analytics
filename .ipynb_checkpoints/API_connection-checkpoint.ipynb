{
 "cells": [
  {
   "cell_type": "code",
   "execution_count": 34,
   "metadata": {},
   "outputs": [],
   "source": [
    "#!pip install nba_api"
   ]
  },
  {
   "cell_type": "code",
   "execution_count": 35,
   "metadata": {},
   "outputs": [],
   "source": [
    "import urllib.request\n",
    "from nba_api.stats.endpoints import leaguegamefinder \n",
    "import json\n",
    "import csv\n",
    "import datetime\n",
    "import pandas as pd\n",
    "import time\n",
    "import numpy as np"
   ]
  },
  {
   "cell_type": "markdown",
   "metadata": {},
   "source": [
    "We are going to retrive and preprocess data from the NBA_API, following the project https://github.com/swar/nba_api/tree/master/docs/nba_api<br>\n",
    "For the medium sports analytic analysis the last date of data retrieval is 06/13/2021 (aka Last Facundo Campazzo's game this season)"
   ]
  },
  {
   "cell_type": "code",
   "execution_count": 60,
   "metadata": {},
   "outputs": [],
   "source": [
    "#this variable controls the last data to retrieve from the different endpoints from the API\n",
    "last_date_to_update = \"06/13/2021\""
   ]
  },
  {
   "cell_type": "markdown",
   "metadata": {},
   "source": [
    "# GAMES DATA"
   ]
  },
  {
   "cell_type": "code",
   "execution_count": 61,
   "metadata": {},
   "outputs": [],
   "source": [
    "#league_id == 00 is NBA (data hast another leagues if not filtered -WNBA, G League-)\n",
    "Games = leaguegamefinder.LeagueGameFinder(league_id_nullable='00',season_nullable=\"2020-21\",\\\n",
    "                                    date_to_nullable=last_date_to_update).get_data_frames()[0]"
   ]
  },
  {
   "cell_type": "code",
   "execution_count": 62,
   "metadata": {},
   "outputs": [],
   "source": [
    "#Preprocess \n",
    "Games[\"SEASON\"] = \"2020-21\"\n",
    "Games[\"RIVAL\"] = Games[\"MATCHUP\"].apply(lambda x: x.replace(\"vs.\",\"@\").split(\"@\")[1].strip())\n",
    "Games[\"TEAM_NAME\"] = Games[\"TEAM_NAME\"].str.upper()\n",
    "Games[\"TEAM_ABBREVIATION\"] = Games[\"TEAM_ABBREVIATION\"].str.strip() \n",
    "Games[\"GAME_DATE\"] = pd.to_datetime(Games[\"GAME_DATE\"])\n",
    "Games[\"SEASON_TYPE\"] = Games.SEASON_ID.map({\n",
    "                        '22020':'REGULAR',\n",
    "                        '32020':'ALL-STAR',\n",
    "                        '42020':'PLAYOFFS',\n",
    "                        '52020':'PLAYIN'})\n",
    "Games.drop(['SEASON_ID'],axis=1,inplace=True)"
   ]
  },
  {
   "cell_type": "code",
   "execution_count": 63,
   "metadata": {},
   "outputs": [],
   "source": [
    "#Create a rivals df to finally merge with the original dataset\n",
    "Games_rivals = Games[['TEAM_ABBREVIATION', 'TEAM_NAME','GAME_DATE','WL', 'MIN', 'PTS',\n",
    "       'FGM', 'FGA', 'FG_PCT', 'FG3M', 'FG3A', 'FG3_PCT', 'FTM', 'FTA',\n",
    "       'FT_PCT', 'OREB', 'DREB', 'REB', 'AST', 'STL', 'BLK', 'TOV', 'PF',\n",
    "       'PLUS_MINUS']].copy()\n",
    "Games_rivals.columns = [\"RIVAL_\"+x for x in Games_rivals.columns]"
   ]
  },
  {
   "cell_type": "code",
   "execution_count": 64,
   "metadata": {},
   "outputs": [],
   "source": [
    "#Merge both datasets\n",
    "Final_Games = Games.merge(Games_rivals, left_on=[\"RIVAL\", \"GAME_DATE\"],\\\n",
    "                         right_on=[\"RIVAL_TEAM_ABBREVIATION\", \"RIVAL_GAME_DATE\"],\\\n",
    "                         how=\"left\")"
   ]
  },
  {
   "cell_type": "code",
   "execution_count": 65,
   "metadata": {},
   "outputs": [],
   "source": [
    "#Final Preprocessing\n",
    "Final_Games = Final_Games.iloc[Final_Games[\"GAME_ID\"].drop_duplicates().index,:]\n",
    "Final_Games[\"GAME_ID\"] = Final_Games[\"GAME_ID\"].astype(\"int\")\n",
    "Final_Games[\"MATCHUP\"] = Final_Games.MATCHUP.apply(lambda x: x.replace(\"@\",\"vs.\"))\n",
    "\n",
    "Final_Games[\"FG2M\"]    = Final_Games[\"FGM\"] - Final_Games[\"FG3M\"]\n",
    "Final_Games[\"FG2A\"]    = Final_Games[\"FGA\"] - Final_Games[\"FG3A\"]\n",
    "Final_Games[\"FG2_PCT\"] = round(Final_Games[\"FG2M\"] / Final_Games[\"FG2A\"],3)"
   ]
  },
  {
   "cell_type": "code",
   "execution_count": 66,
   "metadata": {},
   "outputs": [],
   "source": [
    "Final_Games.to_csv(\"data\\GamesDB.csv\")"
   ]
  },
  {
   "cell_type": "markdown",
   "metadata": {},
   "source": [
    "# PLAYERS DATA"
   ]
  },
  {
   "cell_type": "code",
   "execution_count": 67,
   "metadata": {},
   "outputs": [],
   "source": [
    "from nba_api.stats.endpoints import LeaguePlayerOnDetails, PlayerGameLog"
   ]
  },
  {
   "cell_type": "code",
   "execution_count": 68,
   "metadata": {},
   "outputs": [],
   "source": [
    "teams = pd.DataFrame()\n",
    "for teamID in Final_Games.TEAM_ID.unique():\n",
    "    temporal = LeaguePlayerOnDetails(team_id=teamID,\\\n",
    "                    date_to_nullable=last_date_to_update).get_data_frames()[0]\n",
    "    teams = teams.append(temporal, ignore_index=True)"
   ]
  },
  {
   "cell_type": "code",
   "execution_count": 69,
   "metadata": {},
   "outputs": [],
   "source": [
    "teams.TEAM_ID = teams.TEAM_ID.astype(\"str\")\n",
    "teams.rename(columns={\"VS_PLAYER_ID\":\"PLAYER_ID\",\"VS_PLAYER_NAME\":\"PLAYER_NAME\"},inplace=True)"
   ]
  },
  {
   "cell_type": "code",
   "execution_count": 70,
   "metadata": {},
   "outputs": [],
   "source": [
    "teams.to_csv(\"data\\TeamsDB.csv\")"
   ]
  },
  {
   "cell_type": "code",
   "execution_count": 71,
   "metadata": {},
   "outputs": [],
   "source": [
    "#Read database already created and update it\n",
    "players = pd.read_csv(\"PlayersDB.csv\", index_col=0)\n",
    "players[\"GAME_DATE\"] = pd.to_datetime(players[\"GAME_DATE\"])"
   ]
  },
  {
   "cell_type": "code",
   "execution_count": 72,
   "metadata": {},
   "outputs": [],
   "source": [
    "def game_date_process(x):\n",
    "    callendar = {\"JAN\":1, \"FEB\":2, \"MAR\":3, \"APR\":4, \"MAY\":5, \"JUN\":6, \"JUL\":7, \"AGO\":8, \"SEP\":9, \"OCT\":10,\n",
    "                \"NOV\": 11, \"DEC\":12}\n",
    "    \n",
    "    numeric_month = str(callendar[x.split(\" \")[0]])\n",
    "    day           = str(x.split(\" \")[1].replace(\",\",\"\"))\n",
    "    year          = str(x.split(\" \")[2])\n",
    "    \n",
    "    date = pd.to_datetime(\"-\".join([day, numeric_month, year]),format=\"%d-%m-%Y\")\n",
    "    return datetime.datetime.date(date)"
   ]
  },
  {
   "cell_type": "markdown",
   "metadata": {},
   "source": [
    "Update Regular Season"
   ]
  },
  {
   "cell_type": "code",
   "execution_count": 73,
   "metadata": {},
   "outputs": [
    {
     "name": "stdout",
     "output_type": "stream",
     "text": [
      "Reading new data...\n",
      "No more data to read\n",
      "Se cargaron 0 instancias a la base\n"
     ]
    }
   ],
   "source": [
    "last_date_updated = \"/\".join([\n",
    "    str(players[\"GAME_DATE\"].max().month),\n",
    "    str(players[\"GAME_DATE\"].max().day+1),\n",
    "    str(players[\"GAME_DATE\"].max().year)\n",
    "         ])\n",
    "\n",
    "indicator = 0\n",
    "failure_mark = 0\n",
    "previous_database_instances = players.shape[0]\n",
    "print(\"Reading new data...\")\n",
    "\n",
    "#Players in Regular Season\n",
    "for playerID in teams.PLAYER_ID.unique():\n",
    "    indicator = indicator + 1\n",
    "    #sleep to avoid errors\n",
    "    time.sleep(.600)\n",
    "    temporal = PlayerGameLog(player_id=playerID, date_from_nullable=last_date_updated)\\\n",
    "                                                                    .get_data_frames()[0]\n",
    "    temporal[\"SEASON_TYPE\"] = \"Regular\"\n",
    "    if temporal.shape[0] == 0:\n",
    "        failure_mark = failure_mark + 1\n",
    "        if failure_mark == 20:\n",
    "            print(\"No more data to read\")\n",
    "            break\n",
    "    else:\n",
    "        temporal[\"GAME_DATE\"] = temporal[\"GAME_DATE\"].apply(lambda x: game_date_process(x))\n",
    "        temporal.columns = temporal.columns.str.upper()\n",
    "        players  = players.append(temporal, ignore_index=True)\n",
    "    \n",
    "    if indicator%50 == 0:\n",
    "        print(\"Working...\")\n",
    "\n",
    "print(f\"Se cargaron {players.shape[0] - previous_database_instances} instancias a la base\")"
   ]
  },
  {
   "cell_type": "markdown",
   "metadata": {},
   "source": [
    "Update Playoffs"
   ]
  },
  {
   "cell_type": "code",
   "execution_count": 76,
   "metadata": {},
   "outputs": [
    {
     "name": "stdout",
     "output_type": "stream",
     "text": [
      "Reading new data...\n",
      "Working...\n",
      "Working...\n",
      "No more data to read\n",
      "Se cargaron 0 instancias a la base\n"
     ]
    }
   ],
   "source": [
    "last_date_updated = \"/\".join([\n",
    "    str(players[\"GAME_DATE\"].max().month),\n",
    "    str(players[\"GAME_DATE\"].max().day+1),\n",
    "    str(players[\"GAME_DATE\"].max().year)\n",
    "         ])\n",
    "\n",
    "\n",
    "#Players in Playoffs\n",
    "teamsInPlayoffs = Final_Games[Final_Games[\"SEASON_TYPE\"]==\"PLAYOFFS\"].\\\n",
    "                                                    TEAM_ABBREVIATION.unique()\n",
    "indicator = 1\n",
    "failure_mark = 0\n",
    "previous_database_instances = players.shape[0]\n",
    "print(\"Reading new data...\")\n",
    "\n",
    "#Get only players from teams that are in playoffs\n",
    "for playerID in teams[teams[\"TEAM_ABBREVIATION\"].isin(teamsInPlayoffs)].\\\n",
    "                                                            PLAYER_ID.unique():\n",
    "    indicator = indicator + 1\n",
    "    time.sleep(.600)\n",
    "    temporal = PlayerGameLog(player_id=playerID, date_from_nullable=last_date_updated,\n",
    "                            date_to_nullable=last_date_to_update,\\\n",
    "                            season_type_all_star=\"Playoffs\").get_data_frames()[0]\n",
    "    if temporal.shape[0] == 0:\n",
    "        failure_mark = failure_mark+1\n",
    "        if failure_mark == 100:\n",
    "            print(\"No more data to read\")\n",
    "            break\n",
    "    else:\n",
    "        #We reset the failure_mark as we want to sum only the empty DF in a row\n",
    "        failure_mark = 0\n",
    "        temporal[\"SEASON_TYPE\"] = \"Playoffs\"\n",
    "        temporal[\"GAME_DATE\"] = temporal[\"GAME_DATE\"].apply(lambda x: game_date_process(x))\n",
    "        temporal.columns = temporal.columns.str.upper()\n",
    "        temporal.rename(columns={\"VS_PLAYER_ID\":\"PLAYER_ID\",\"VS_PLAYER_NAME\":\"PLAYER_NAME\"},\\\n",
    "                                                                        inplace=True)\n",
    "        temporal[\"PLAYER_NAME\"] = temporal.PLAYER_ID.apply(lambda x: teams[teams[\"PLAYER_ID\"]==x]\\\n",
    "                                                                        .PLAYER_NAME.unique()[0])\n",
    "        players  = players.append(temporal, ignore_index=True)\n",
    "    \n",
    "    if indicator%50 == 0:\n",
    "        print(\"Working...\")\n",
    "\n",
    "print(f\"Se cargaron {players.shape[0] - previous_database_instances} instancias a la base\")"
   ]
  },
  {
   "cell_type": "code",
   "execution_count": 79,
   "metadata": {},
   "outputs": [],
   "source": [
    "players[\"MATCHUP\"] = players.MATCHUP.apply(lambda x: x.replace(\"@\",\"vs.\"))\n",
    "players[\"GAME_DATE\"] = pd.to_datetime(players.GAME_DATE)\n",
    "players[\"PLAYER_ID\"] = players.PLAYER_ID.astype(\"int64\")\n",
    "players[\"GAME_ID\"] = players.GAME_ID.astype(\"int64\")\n",
    "players[\"SEASON\"] = \"2020-21\"\n",
    "players[\"TEAM_ABBREVIATION\"] = players.MATCHUP.apply(lambda x: x.split(\"vs.\")[0].strip())"
   ]
  },
  {
   "cell_type": "code",
   "execution_count": 80,
   "metadata": {},
   "outputs": [],
   "source": [
    "players[\"FG2M\"]    = players[\"FGM\"] - players[\"FG3M\"]\n",
    "players[\"FG2A\"]    = players[\"FGA\"] - players[\"FG3A\"]\n",
    "players[\"FG2_PCT\"] = round(players[\"FG2M\"] / players[\"FG2A\"],3)\n",
    "players[\"FG2_PCT\"].fillna(0,inplace=True)"
   ]
  },
  {
   "cell_type": "code",
   "execution_count": 81,
   "metadata": {},
   "outputs": [],
   "source": [
    "for x in range(players.shape[0]):\n",
    "    playersTeam = players.loc[x,\"TEAM_ABBREVIATION\"]\n",
    "    GameID      = players.loc[x,\"GAME_ID\"]\n",
    "    LocalTeam   = Final_Games[Final_Games[\"GAME_ID\"]==GameID][\"TEAM_ABBREVIATION\"].values[0]\n",
    "    \n",
    "    if playersTeam == LocalTeam:\n",
    "        players.loc[x,\"LOCAL_AWAY\"] = \"LOCAL\"\n",
    "    else:\n",
    "        players.loc[x,\"LOCAL_AWAY\"] = \"AWAY\""
   ]
  },
  {
   "cell_type": "code",
   "execution_count": 82,
   "metadata": {},
   "outputs": [],
   "source": [
    "players.to_csv(\"data\\PlayersDB.csv\")"
   ]
  },
  {
   "cell_type": "markdown",
   "metadata": {},
   "source": [
    "# Players personal data"
   ]
  },
  {
   "cell_type": "code",
   "execution_count": 84,
   "metadata": {},
   "outputs": [],
   "source": [
    "from nba_api.stats.endpoints import CommonPlayerInfo"
   ]
  },
  {
   "cell_type": "code",
   "execution_count": 85,
   "metadata": {},
   "outputs": [
    {
     "name": "stdout",
     "output_type": "stream",
     "text": [
      "Reading new data...\n",
      "Working...\n",
      "Working...\n",
      "Working...\n",
      "Working...\n",
      "Working...\n",
      "Working...\n",
      "Working...\n",
      "Working...\n",
      "Working...\n",
      "Working...\n",
      "Done!\n"
     ]
    }
   ],
   "source": [
    "print(\"Reading new data...\")\n",
    "df = pd.DataFrame()\n",
    "indicator = 0\n",
    "\n",
    "for playerID in teams.PLAYER_ID.unique():\n",
    "    indicator = indicator + 1\n",
    "    time.sleep(.600)\n",
    "    temporal = CommonPlayerInfo(player_id=playerID).get_data_frames()[0]    \n",
    "    temporal.columns = temporal.columns.str.upper()\n",
    "    df  = df.append(temporal, ignore_index=True)\n",
    "    \n",
    "    if indicator%50 == 0:\n",
    "        print(\"Working...\")\n",
    "print(\"Done!\")"
   ]
  },
  {
   "cell_type": "code",
   "execution_count": 86,
   "metadata": {},
   "outputs": [],
   "source": [
    "df.to_csv(\"data\\PlayersCommonDB.csv\")"
   ]
  },
  {
   "cell_type": "markdown",
   "metadata": {},
   "source": [
    "# PLAYER SHOOT LOCATIONS"
   ]
  },
  {
   "cell_type": "code",
   "execution_count": 87,
   "metadata": {},
   "outputs": [],
   "source": [
    "from nba_api.stats.endpoints import LeagueDashPlayerShotLocations, LeagueDashPlayerPtShot, ShotChartDetail"
   ]
  },
  {
   "cell_type": "code",
   "execution_count": 89,
   "metadata": {},
   "outputs": [],
   "source": [
    "shot_dist = ShotChartDetail(player_id=1630267, team_id=1610612743,\\\n",
    "                           context_measure_simple = 'FGA').get_data_frames()[0]\n",
    "shot_dist_play_offs = ShotChartDetail(player_id=1630267, team_id=1610612743,\\\n",
    "                           context_measure_simple = 'FGA',\\\n",
    "                           season_type_all_star=\"Playoffs\").get_data_frames()[0]\n",
    "\n",
    "shot_dist = shot_dist.append(shot_dist_play_offs)"
   ]
  },
  {
   "cell_type": "code",
   "execution_count": 90,
   "metadata": {},
   "outputs": [],
   "source": [
    "#Denver Shots\n",
    "shots = LeagueDashPlayerShotLocations(team_id_nullable=1610612743)"
   ]
  },
  {
   "cell_type": "code",
   "execution_count": 91,
   "metadata": {},
   "outputs": [],
   "source": [
    "# There are 3 unique columns for each floor zone:\n",
    "# FGM, FGA, FG_PCT\n",
    "lists = [[c] * 3 for c in shots.get_dict()['resultSets']['headers'][0]['columnNames']]\n",
    "all_columns = ['player_data']*6 + [j for i in lists for j in i]\n",
    "\n",
    "assert len(shots.get_dict()['resultSets']['headers'][1]['columnNames']) == len(all_columns)\n",
    "\n",
    "cols = pd.MultiIndex.from_arrays([all_columns,\\\n",
    "                                 shots.get_dict()['resultSets']['headers'][1]['columnNames']])\n",
    "\n",
    "player_shooting_df = pd.DataFrame(data=shots.get_dict()['resultSets']['rowSet'],\n",
    "                                  columns=cols)"
   ]
  },
  {
   "cell_type": "code",
   "execution_count": 92,
   "metadata": {},
   "outputs": [],
   "source": [
    "shot_dist.to_csv(\"data\\shot_loc.csv\")\n",
    "player_shooting_df.to_csv(\"data\\shots_type_stats.csv\")"
   ]
  },
  {
   "cell_type": "markdown",
   "metadata": {},
   "source": [
    "# Campazzo data by period"
   ]
  },
  {
   "cell_type": "code",
   "execution_count": 93,
   "metadata": {},
   "outputs": [],
   "source": [
    "from nba_api.stats.endpoints import PlayerDashboardByGameSplits"
   ]
  },
  {
   "cell_type": "code",
   "execution_count": 94,
   "metadata": {},
   "outputs": [],
   "source": [
    "campa_by_period = PlayerDashboardByGameSplits(player_id=1630267).get_data_frames()[2]"
   ]
  },
  {
   "cell_type": "code",
   "execution_count": 95,
   "metadata": {},
   "outputs": [],
   "source": [
    "campa_by_period.to_csv(\"data\\Campa_by_period.csv\")"
   ]
  }
 ],
 "metadata": {
  "kernelspec": {
   "display_name": "Python 3",
   "language": "python",
   "name": "python3"
  },
  "language_info": {
   "codemirror_mode": {
    "name": "ipython",
    "version": 3
   },
   "file_extension": ".py",
   "mimetype": "text/x-python",
   "name": "python",
   "nbconvert_exporter": "python",
   "pygments_lexer": "ipython3",
   "version": "3.7.3"
  }
 },
 "nbformat": 4,
 "nbformat_minor": 4
}
